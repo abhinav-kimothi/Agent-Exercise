{
 "cells": [
  {
   "cell_type": "markdown",
   "id": "45691bdc",
   "metadata": {},
   "source": [
    "<img src=\"./Assets/1.1 AgWorkHeaderImage.png\"> "
   ]
  },
  {
   "cell_type": "markdown",
   "id": "b090268a",
   "metadata": {},
   "source": [
    "\n",
    "\n",
    "# <span style=\"color:navy\"><b>Agentic Workflows: Design and Implementation (online)</b></span>\n",
    "\n",
    "## <span style=\"color:#ff8000\">Agents that Reason</span>\n",
    "\n",
    "## CrewAI Exercise Notebook (Estimated Completion Time : 30-45 mins)\n",
    "\n",
    "#### 16 May 2025\n",
    "\n",
    "#### Abhinav Kimothi"
   ]
  },
  {
   "cell_type": "markdown",
   "id": "aac8c9e7",
   "metadata": {},
   "source": [
    "---"
   ]
  },
  {
   "cell_type": "markdown",
   "id": "983891fe",
   "metadata": {},
   "source": [
    "## 🧠 Problem Statement\n",
    "\n",
    "You're working with a digital marketing agency to build a **multi-agent AI team** that can:\n",
    "\n",
    "1. Understand a client’s domain and project\n",
    "2. Research the market and competitors\n",
    "3. Build a marketing strategy\n",
    "4. Come up with campaign ideas\n",
    "5. Write compelling ad copy\n",
    "6. Review the entire output\n",
    "\n",
    "You'll define all the agents and tasks to enable this pipeline.\n",
    "\n",
    "---"
   ]
  },
  {
   "cell_type": "markdown",
   "id": "4ac0b035",
   "metadata": {},
   "source": [
    "## Setting the Context\n",
    "\n",
    "First, as a user input, let's set the client's domain(url) and the project description"
   ]
  },
  {
   "cell_type": "code",
   "execution_count": null,
   "id": "e5d790c6",
   "metadata": {},
   "outputs": [
    {
     "ename": "",
     "evalue": "",
     "output_type": "error",
     "traceback": [
      "\u001b[1;31mThe kernel failed to start as the Python Environment 'Python' is no longer available. Consider selecting another kernel or refreshing the list of Python Environments."
     ]
    }
   ],
   "source": [
    "domain=\"crewai.com\"\n",
    "project=\"CrewAI, a leading provider of multi-agent systems, aims to revolutionize marketing automation for its enterprise clients. This project involves developing an innovative marketing strategy to showcase CrewAI's advanced AI-driven solutions, emphasizing ease of use, scalability, and integration capabilities. The campaign will target tech-savvy decision-makers in medium to large enterprises, highlighting success stories and the transformative potential of CrewAI's platform.\""
   ]
  },
  {
   "cell_type": "markdown",
   "id": "5bfc4ff9",
   "metadata": {},
   "source": [
    "### Installing Dependencies\n",
    "\n",
    "All the necessary libraries for running this notebook along with their versions can be found in __requirements.txt__ file in the root directory of this repository\n",
    "\n",
    "You should go to the root directory and run the following command to install the libraries\n",
    "\n",
    "```\n",
    "pip install -r requirements.txt\n",
    "```\n",
    "\n",
    "This is the recommended method of installing the dependencies\n"
   ]
  },
  {
   "cell_type": "code",
   "execution_count": 22,
   "id": "3af52683",
   "metadata": {},
   "outputs": [],
   "source": [
    "import warnings\n",
    "warnings.filterwarnings(\"ignore\", category=SyntaxWarning, module=\"pysbd\")"
   ]
  },
  {
   "cell_type": "code",
   "execution_count": 23,
   "id": "ec804762",
   "metadata": {},
   "outputs": [
    {
     "name": "stdout",
     "output_type": "stream",
     "text": [
      "Success: .env file found with some environment variables\n"
     ]
    }
   ],
   "source": [
    "from dotenv import load_dotenv\n",
    "import os\n",
    "\n",
    "if load_dotenv():\n",
    "    print(\"Success: .env file found with some environment variables\")\n",
    "else:\n",
    "    print(\"Caution: No environment variables found. Please create .env file in the root directory or add environment variables in the .env file\")"
   ]
  },
  {
   "cell_type": "markdown",
   "id": "613d183f",
   "metadata": {},
   "source": [
    "---"
   ]
  },
  {
   "cell_type": "markdown",
   "id": "95f0b6c3",
   "metadata": {},
   "source": [
    "## Exercise 1: Think Like a Crew Architect\n",
    "\n",
    "Before writing any code, take 5–10 minutes to design your **multi-agent crew**.\n",
    "\n",
    "You're working with a digital marketing agency to automate content creation for a new client.\n",
    "\n",
    "### 👥 Your Task:\n",
    "Define the **agents** and **tasks** needed to accomplish this goal.\n",
    "\n",
    "### ✅ Step 1: List Your Agents\n",
    "Think of the roles you need. For each, write:\n",
    "- Agent name\n",
    "- Their role\n",
    "- Their responsibility (goal)\n",
    "\n",
    "_Example:_\n",
    "- **Lead Market Analyst**  \n",
    "  Role: Research competitors and customer base  \n",
    "  Goal: Provide insights to inform marketing strategy\n",
    "\n",
    "### ✅ Step 2: List Your Tasks\n",
    "Break the project down into actionable tasks. For each, write:\n",
    "- Task name\n",
    "- What it should accomplish\n",
    "- Which agent should perform it\n",
    "\n",
    "_Example:_\n",
    "- **Research Task** → Conduct market research → Assigned to Lead Market Analyst\n",
    "\n",
    "\n",
    "Once you're done, move to the next cell and start defining your agents and tasks in code!"
   ]
  },
  {
   "cell_type": "markdown",
   "id": "b2bf67f0",
   "metadata": {},
   "source": [
    "In the cell below, Write the Agent and the Task names"
   ]
  },
  {
   "cell_type": "code",
   "execution_count": 2,
   "id": "62ede5f4",
   "metadata": {},
   "outputs": [
    {
     "data": {
      "text/markdown": [
       "\n",
       "\n",
       "- **Agents**:\n",
       "  1. ...\n",
       "  2. ...\n",
       "  3. ...\n",
       "\n",
       "- **Tasks**:\n",
       "  1. ...\n",
       "  2. ...\n",
       "  3. ...\n"
      ],
      "text/plain": [
       "<IPython.core.display.Markdown object>"
      ]
     },
     "execution_count": 2,
     "metadata": {},
     "output_type": "execute_result"
    }
   ],
   "source": [
    "from IPython.display import Markdown\n",
    "\n",
    "Markdown(\"\"\"\n",
    "\n",
    "- **Agents**:\n",
    "  1. ...\n",
    "  2. ...\n",
    "  3. ...\n",
    "\n",
    "- **Tasks**:\n",
    "  1. ...\n",
    "  2. ...\n",
    "  3. ...\n",
    "\"\"\")"
   ]
  },
  {
   "cell_type": "markdown",
   "id": "f38c7cfa",
   "metadata": {},
   "source": [
    "<details>\n",
    "<summary>Click for Hint</summary>\n",
    "\n",
    "<img src=\"./Assets/Customer URL.png\"> \n",
    "</details>"
   ]
  },
  {
   "cell_type": "markdown",
   "id": "c259bbd3",
   "metadata": {},
   "source": [
    "---"
   ]
  },
  {
   "cell_type": "markdown",
   "id": "317097c7",
   "metadata": {},
   "source": [
    "## ✍️ Exercise 2: Define Your Agents\n",
    "\n",
    "Now that you've designed your workflow, it's time to create the agents that will carry out the tasks.\n",
    "\n",
    "For each agent, define:\n",
    "- `role`: What is their title?\n",
    "- `goal`: What are they trying to achieve?\n",
    "- `backstory`: What gives them credibility or expertise?"
   ]
  },
  {
   "cell_type": "code",
   "execution_count": 8,
   "id": "c546f308",
   "metadata": {},
   "outputs": [],
   "source": [
    "from crewai import LLM\n",
    "llm = LLM(model=\"gpt-4o-mini\")"
   ]
  },
  {
   "cell_type": "code",
   "execution_count": 6,
   "id": "d6d839c1",
   "metadata": {},
   "outputs": [
    {
     "name": "stderr",
     "output_type": "stream",
     "text": [
      "/Users/kim/Desktop/Github/Agent-Exercise/.cenv/lib/python3.11/site-packages/pydantic/_internal/_generate_schema.py:623: UserWarning: <built-in function callable> is not a Python type (it may be an instance of an object), Pydantic will allow any object with no validation since we cannot even enforce that the input is an instance of the given type. To get rid of this error wrap the type with `pydantic.SkipValidation`.\n",
      "  warn(\n"
     ]
    }
   ],
   "source": [
    "from crewai import Agent\n",
    "from crewai_tools import SerperDevTool, ScrapeWebsiteTool\n"
   ]
  },
  {
   "cell_type": "markdown",
   "id": "27fe1f3b",
   "metadata": {},
   "source": [
    "🧪 Your Task\n",
    "\n",
    "- Define at least 3–4 agents from your plan in Exercise 1.\n",
    "- Use unique and descriptive roles.\n",
    "- Make sure each agent aligns with a distinct task or responsibility in the pipeline."
   ]
  },
  {
   "cell_type": "code",
   "execution_count": 10,
   "id": "2e233f21",
   "metadata": {},
   "outputs": [],
   "source": [
    "lead_market_analyst = Agent(\n",
    "#### BEGIN YOUR CODE HERE ####\n",
    "    role=\"\",\n",
    "    goal=\"\",\n",
    "    backstory=\"\",\n",
    "    verbose=True,\n",
    "    tools=[],\n",
    "#### END YOUR CODE HERE ####\n",
    "    llm=llm\n",
    ")"
   ]
  },
  {
   "cell_type": "markdown",
   "id": "d1c011b0",
   "metadata": {},
   "source": [
    "<details>\n",
    "<summary>Click for Hint</summary>\n",
    "\n",
    "Checkout [this](./Assets/agents.yaml) Yaml file for Agent definition\n",
    "\n",
    "</details>\n",
    "\n",
    "---"
   ]
  },
  {
   "cell_type": "markdown",
   "id": "ebc9c269",
   "metadata": {},
   "source": [
    "## 🧪 Exercise 3: Define the Tasks\n",
    "\n",
    "Now that you've defined your agents, it's time to give them something to do!\n",
    "\n",
    "Each task should:\n",
    "- Be assigned to one of your agents\n",
    "- Have a **clear description** of what needs to be done\n",
    "- Specify an **expected output**"
   ]
  },
  {
   "cell_type": "code",
   "execution_count": 11,
   "id": "34810cb6",
   "metadata": {},
   "outputs": [],
   "source": [
    "from crewai import Task"
   ]
  },
  {
   "cell_type": "markdown",
   "id": "88df1315",
   "metadata": {},
   "source": [
    "🧪 Your Task\n",
    "\n",
    "- Define at least 3–5 tasks from your plan in Exercise 1.\n",
    "- The task descriptions should be clear and grounded in your project."
   ]
  },
  {
   "cell_type": "code",
   "execution_count": 14,
   "id": "3bc6a102",
   "metadata": {},
   "outputs": [],
   "source": [
    "research_task = Task(\n",
    "#### BEGIN YOUR CODE HERE ####\n",
    "    agent=None,\n",
    "    description=f\"... {domain} ... {project} ...\",\n",
    "    expected_output=\"...\"\n",
    "#### END YOUR CODE HERE ####\n",
    "\n",
    ")"
   ]
  },
  {
   "cell_type": "markdown",
   "id": "2d434ce6",
   "metadata": {},
   "source": [
    "<details>\n",
    "<summary>Click for Hint</summary>\n",
    "\n",
    "Checkout [this](./Assets/tasks.yaml) Yaml file for Agent definition\n",
    "\n",
    "</details>\n",
    "\n",
    "---"
   ]
  },
  {
   "cell_type": "markdown",
   "id": "6ba98246",
   "metadata": {},
   "source": [
    "## 🏁 Exercise 4: Run Your Crew\n",
    "\n",
    "Now it's time to bring your workflow to life!\n",
    "\n",
    "You will:\n",
    "1. Assemble your agents and tasks into a Crew.\n",
    "2. Execute the Crew using `.run()`.\n",
    "3. Review the final output generated by your multi-agent system.\n",
    "\n",
    "Make sure:\n",
    "- All your tasks are defined and correctly assigned to agents.\n",
    "- Your agents are not `None`.\n",
    "- You pass all your task objects into the `Crew` constructor.\n",
    "\n",
    "🧪 Tip: Use `verbose=True` when running the Crew to see what each agent is doing."
   ]
  },
  {
   "cell_type": "code",
   "execution_count": 17,
   "id": "f5688e91",
   "metadata": {},
   "outputs": [],
   "source": [
    "from crewai import Crew, Process"
   ]
  },
  {
   "cell_type": "code",
   "execution_count": 18,
   "id": "4f9a711f",
   "metadata": {},
   "outputs": [],
   "source": [
    "task_list = [\n",
    "    # LIST ALL TASKS,\n",
    "    # ,\n",
    "    # ,\n",
    "    # ,\n",
    "    # \n",
    "]"
   ]
  },
  {
   "cell_type": "code",
   "execution_count": 19,
   "id": "642730d6",
   "metadata": {},
   "outputs": [],
   "source": [
    "agent_list=[\n",
    "    # LIST ALL AGENTS,\n",
    "    #,\n",
    "    #,\n",
    "    #,\n",
    "]"
   ]
  },
  {
   "cell_type": "code",
   "execution_count": null,
   "id": "7dca554f",
   "metadata": {},
   "outputs": [],
   "source": [
    "marketing_crew = Crew(\n",
    "    agents=agent_list,\n",
    "    tasks=task_list,\n",
    "    process=Process.sequential,\n",
    "    verbose=True\n",
    "    # process=Process.hierarchical, # In case you wanna use that instead\n",
    ")"
   ]
  },
  {
   "cell_type": "markdown",
   "id": "38502274",
   "metadata": {},
   "source": [
    "---\n",
    "\n",
    "## Run the Crew"
   ]
  },
  {
   "cell_type": "code",
   "execution_count": null,
   "id": "73c6f4ff",
   "metadata": {},
   "outputs": [],
   "source": [
    "marketing_crew.kickoff()"
   ]
  },
  {
   "cell_type": "markdown",
   "id": "7de84f6c",
   "metadata": {},
   "source": [
    "---"
   ]
  },
  {
   "cell_type": "markdown",
   "id": "5c1c1bbe",
   "metadata": {},
   "source": [
    "## 🧩 Reflect\n",
    "\n",
    "- What worked well in your agent-task setup?\n",
    "- Did any tasks feel repetitive or unclear?\n",
    "- How could you introduce feedback loops or parallelism?\n",
    "\n",
    "Try modifying one aspect (e.g., adding a new agent or task) and re-run your crew!"
   ]
  },
  {
   "cell_type": "markdown",
   "id": "157a1fc0",
   "metadata": {},
   "source": [
    "---\n",
    "\n",
    "## <span style=\"color:#ff8000\">Congratulations!</span>\n",
    "For completing this exercise on Agentic Flows. I hope you had fun. For any queries, please get in touch!"
   ]
  },
  {
   "cell_type": "markdown",
   "id": "f068bb90",
   "metadata": {},
   "source": [
    "<img src=\"./Assets/profile_s.png\" width=100> \n",
    "\n",
    "Hi! I'm Abhinav! I am an entrepreneur and Vice President of Artificial Intelligence at Yarnit. I have spent over 15 years consulting and leadership roles in data science, machine learning and AI. My current focus is in the applied Generative AI domain focussing on solving enterprise needs through contextual intelligence. I'm passionate about AI advancements constantly exploring emerging technologies to push the boundaries and create positive impacts in the world. Let’s build the future, together!\n",
    "\n",
    "[If you haven't already, get your copy of A Simple Guide to Retrieval Augmented Generation here](https://mng.bz/6ePo)\n",
    "\n",
    "\n",
    "<a href=\"https://mng.bz/6ePo\" target=\"_blank\">\n",
    "    <img src=\"./Assets/NewMEAPFooter.png\" alt=\"New MEAP\" width= 70%\" />\n",
    "</a>\n",
    "\n",
    "#### If you'd like to chat, I'd be very happy to connect\n",
    "\n",
    "[![GitHub followers](https://img.shields.io/badge/Github-000000?style=for-the-badge&logo=github&logoColor=black&color=orange)](https://github.com/abhinav-kimothi)\n",
    "[![LinkedIn](https://img.shields.io/badge/LinkedIn-000000?style=for-the-badge&logo=linkedin&logoColor=orange&color=black)](https://www.linkedin.com/comm/mynetwork/discovery-see-all?usecase=PEOPLE_FOLLOWS&followMember=abhinav-kimothi)\n",
    "[![Medium](https://img.shields.io/badge/Medium-000000?style=for-the-badge&logo=medium&logoColor=black&color=orange)](https://medium.com/@abhinavkimothi)\n",
    "[![Insta](https://img.shields.io/badge/Instagram-000000?style=for-the-badge&logo=instagram&logoColor=orange&color=black)](https://www.instagram.com/akaiworks/)\n",
    "[![Mail](https://img.shields.io/badge/email-000000?style=for-the-badge&logo=gmail&logoColor=black&color=orange)](mailto:abhinav.kimothi.ds@gmail.com)\n",
    "[![X](https://img.shields.io/badge/Follow-000000?style=for-the-badge&logo=X&logoColor=orange&color=black)](https://twitter.com/abhinav_kimothi)\n",
    "[![Linktree](https://img.shields.io/badge/Linktree-000000?style=for-the-badge&logo=linktree&logoColor=black&color=orange)](https://linktr.ee/abhinavkimothi)\n",
    "[![Gumroad](https://img.shields.io/badge/Gumroad-000000?style=for-the-badge&logo=gumroad&logoColor=orange&color=black)](https://abhinavkimothi.gumroad.com/)\n",
    "\n",
    "---"
   ]
  }
 ],
 "metadata": {
  "kernelspec": {
   "display_name": ".cenv",
   "language": "python",
   "name": "python3"
  },
  "language_info": {
   "codemirror_mode": {
    "name": "ipython",
    "version": 3
   },
   "file_extension": ".py",
   "mimetype": "text/x-python",
   "name": "python",
   "nbconvert_exporter": "python",
   "pygments_lexer": "ipython3",
   "version": "3.11.0"
  }
 },
 "nbformat": 4,
 "nbformat_minor": 5
}
